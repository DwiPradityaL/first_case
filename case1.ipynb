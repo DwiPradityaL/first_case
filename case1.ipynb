{
  "nbformat": 4,
  "nbformat_minor": 0,
  "metadata": {
    "colab": {
      "provenance": []
    },
    "kernelspec": {
      "name": "python3",
      "display_name": "Python 3"
    },
    "language_info": {
      "name": "python"
    }
  },
  "cells": [
    {
      "cell_type": "code",
      "execution_count": null,
      "metadata": {
        "id": "o2Jwgnxqyj2U"
      },
      "outputs": [],
      "source": []
    },
    {
      "cell_type": "code",
      "source": [
        "print('hello')"
      ],
      "metadata": {
        "colab": {
          "base_uri": "https://localhost:8080/"
        },
        "id": "GmyUoAy-ypyZ",
        "outputId": "0487a430-5f83-44c0-d413-d7cb42c70b9d"
      },
      "execution_count": 1,
      "outputs": [
        {
          "output_type": "stream",
          "name": "stdout",
          "text": [
            "hello\n"
          ]
        }
      ]
    },
    {
      "cell_type": "code",
      "source": [
        "from tabulate import tabulate"
      ],
      "metadata": {
        "id": "5jBcOlnp1lDp"
      },
      "execution_count": 3,
      "outputs": []
    },
    {
      "cell_type": "code",
      "source": [
        "data = {\n",
        "    \"Shandy\": [\"Basic Plan\", 12, \"shandy-2134\"],\n",
        "    \"Cahya\": [\"Standard Plan\", 24, \"cahya-abcd\"],\n",
        "    \"Ana\": [\"Premium Plan\", 5, \"ana-2f9g\"],\n",
        "    \"Bagus\": [\"Basic Plan\", 11, \"bagus-9f92\"]\n",
        "}"
      ],
      "metadata": {
        "id": "EaXwTlcw2xAo"
      },
      "execution_count": 66,
      "outputs": []
    },
    {
      "cell_type": "code",
      "source": [
        "class User:\n",
        "\n",
        "  def __init__(self, username, duration_plan, current_plan):\n",
        "    self.username = username\n",
        "    self.duration_plan = duration_plan\n",
        "    self.current_plan = current_plan\n",
        "\n",
        "  def check_all_plan(self):\n",
        "    print(\"PacFlix Plan List\")\n",
        "    header = [\"Basic Plan\", \"Standard Plan\", \"Premium Plan\", \"Service\"]\n",
        "\n",
        "    rows = [\n",
        "        [True, True, True, \"Bisa Stream\"],\n",
        "        [True, True, True, \"Bisa Download\"],\n",
        "        [True, True, True, \"Kualitas SD\"],\n",
        "        [False, True, True, \"Kualitas HD\"]\n",
        "    ]\n",
        "    print()\n",
        "    print(tabulate(rows, header))\n",
        "\n",
        "  def check_user_plan(self):\n",
        "    print(f\"username: {self.username}\")\n",
        "    print(f'current plan: {self.current_plan}')\n",
        "\n",
        "    if self.current_plan == \"Basic Plan\":\n",
        "      header =  [\"Basic Plan\", \"Service\"]\n",
        "      rows = [\n",
        "          [True, \"Bisa Stream\"],\n",
        "          [True, \"Bisa Download\"],\n",
        "          [True, \"Kualitas SD\"],\n",
        "          [False, \"Kualitas HD\"]\n",
        "      ]\n",
        "      print(tabulate(rows, header))\n",
        "\n",
        "\n",
        "    elif self.current_plan == \"Standar Plan\":\n",
        "      header =  [\"Standar Plan\", \"Service\"]\n",
        "      rows = [\n",
        "          [True, \"Bisa Stream\"],\n",
        "          [True, \"Bisa Download\"],\n",
        "          [True, \"Kualitas HD\"],\n",
        "          [False, \"Kualitas HD\"]\n",
        "      ]\n",
        "      print(tabulate(rows, header))\n",
        "\n",
        "    elif self.current_plan == \"Premium Plan\":\n",
        "      header =  [\"Premium Plan\", \"Service\"]\n",
        "      rows = [\n",
        "          [True, \"Bisa Stream\"],\n",
        "          [True, \"Bisa Download\"],\n",
        "          [True, \"Kualitas HD\"],\n",
        "           [True, \"Kualitas HD\"]\n",
        "      ]\n",
        "      print(tabulate(rows, header))\n",
        "\n",
        "\n",
        "  def upgrade_plan(self, new_plan):\n",
        "\n",
        "    if self.duration_plan > 12:\n",
        "      discount = 0.05\n",
        "    else:\n",
        "      discount = 0\n",
        "\n",
        "    if new_plan == \"Standar Plan\":\n",
        "      new_original_price = 160000\n",
        "      discount_price = new_original_price * discount\n",
        "\n",
        "      final_price = new_original_price - discount_price\n",
        "      return final_price\n",
        "\n",
        "    elif new_plan == \"Premium Plan\":\n",
        "      new_original_price = 200000\n",
        "      discount_price = new_original_price * discount\n",
        "\n",
        "      final_price = new_original_price - discount_price\n",
        "      return final_price"
      ],
      "metadata": {
        "id": "O32dNuOu2_Yo"
      },
      "execution_count": 75,
      "outputs": []
    },
    {
      "cell_type": "code",
      "source": [
        "user_1 = User(\"Shandy\", 12, \"Basic Plan\")\n",
        "user_2 = User(\"Cahya\", 24, \"Standar Plan\")"
      ],
      "metadata": {
        "id": "61DO7uGC3WUX"
      },
      "execution_count": 86,
      "outputs": []
    },
    {
      "cell_type": "code",
      "source": [
        "user_1.upgrade_plan(\"Premium Plan\")"
      ],
      "metadata": {
        "colab": {
          "base_uri": "https://localhost:8080/"
        },
        "id": "E_BAJJH3-z0g",
        "outputId": "7e8a2831-a66e-49ca-fab2-4fc5a858f72b"
      },
      "execution_count": 87,
      "outputs": [
        {
          "output_type": "execute_result",
          "data": {
            "text/plain": [
              "200000"
            ]
          },
          "metadata": {},
          "execution_count": 87
        }
      ]
    },
    {
      "cell_type": "code",
      "source": [
        "user_1.username, user_1.duration_plan, user_1.current_plan\n"
      ],
      "metadata": {
        "colab": {
          "base_uri": "https://localhost:8080/"
        },
        "id": "F2_K6t8_3hXz",
        "outputId": "69bc2d0e-3edf-4fe8-c5ec-576443f42fed"
      },
      "execution_count": 88,
      "outputs": [
        {
          "output_type": "execute_result",
          "data": {
            "text/plain": [
              "('Shandy', 12, 'Basic Plan')"
            ]
          },
          "metadata": {},
          "execution_count": 88
        }
      ]
    },
    {
      "cell_type": "code",
      "source": [
        "user_1.check_all_plan()"
      ],
      "metadata": {
        "colab": {
          "base_uri": "https://localhost:8080/"
        },
        "id": "86VaxpOh5Vua",
        "outputId": "8ebe212a-efe1-4081-c2a7-482d0cd01217"
      },
      "execution_count": 89,
      "outputs": [
        {
          "output_type": "stream",
          "name": "stdout",
          "text": [
            "PacFlix Plan List\n",
            "\n",
            "Basic Plan    Standard Plan    Premium Plan    Service\n",
            "------------  ---------------  --------------  -------------\n",
            "True          True             True            Bisa Stream\n",
            "True          True             True            Bisa Download\n",
            "True          True             True            Kualitas SD\n",
            "False         True             True            Kualitas HD\n"
          ]
        }
      ]
    },
    {
      "cell_type": "code",
      "source": [
        "user_1.check_user_plan()"
      ],
      "metadata": {
        "colab": {
          "base_uri": "https://localhost:8080/"
        },
        "id": "Jn2iCtDWACr7",
        "outputId": "d5abc184-f963-40ee-9db0-9ee1d3d872f2"
      },
      "execution_count": 90,
      "outputs": [
        {
          "output_type": "stream",
          "name": "stdout",
          "text": [
            "username: Shandy\n",
            "current plan: Basic Plan\n",
            "Basic Plan    Service\n",
            "------------  -------------\n",
            "True          Bisa Stream\n",
            "True          Bisa Download\n",
            "True          Kualitas SD\n",
            "False         Kualitas HD\n"
          ]
        }
      ]
    },
    {
      "cell_type": "code",
      "source": [
        "user_2.check_user_plan()"
      ],
      "metadata": {
        "colab": {
          "base_uri": "https://localhost:8080/"
        },
        "id": "5MWDQgwg7SV4",
        "outputId": "a8a65811-4b38-4127-9829-d56ddc1e8b8b"
      },
      "execution_count": 91,
      "outputs": [
        {
          "output_type": "stream",
          "name": "stdout",
          "text": [
            "username: Cahya\n",
            "current plan: Standar Plan\n",
            "Standar Plan    Service\n",
            "--------------  -------------\n",
            "True            Bisa Stream\n",
            "True            Bisa Download\n",
            "True            Kualitas HD\n",
            "False           Kualitas HD\n"
          ]
        }
      ]
    },
    {
      "cell_type": "code",
      "source": [
        "valid_reverral_code = ['cahya-abcd']"
      ],
      "metadata": {
        "id": "oNl_qnGtEo21"
      },
      "execution_count": 101,
      "outputs": []
    },
    {
      "cell_type": "code",
      "source": [
        "#valid_reverral_code =[value[2] for key, value in data.items()]"
      ],
      "metadata": {
        "id": "oiesrh9RE94X"
      },
      "execution_count": 102,
      "outputs": []
    },
    {
      "cell_type": "code",
      "source": [
        "class NewUser:\n",
        "\n",
        "  def __init__(self, username):\n",
        "    self.username = username\n",
        "\n",
        "\n",
        "  def pick_plan(self, new_plan, referral_code):\n",
        "\n",
        "    if referral_code in valid_reverral_code:\n",
        "      discount = 0.04\n",
        "    else:\n",
        "      raise Exception(\"Referral code doersn't exist\")\n",
        "\n",
        "    if new_plan == \"Standar Plan\":\n",
        "      new_original_price = 160000\n",
        "      discount_price = new_original_price * discount\n",
        "\n",
        "      final_price = new_original_price - discount_price\n",
        "      return final_price\n",
        "\n",
        "    elif new_plan == \"Premium Plan\":\n",
        "      new_original_price = 200000\n",
        "      discount_price = new_original_price * discount\n",
        "\n",
        "      final_price = new_original_price - discount_price\n",
        "      return final_price"
      ],
      "metadata": {
        "id": "yZLuRz4lDVYO"
      },
      "execution_count": 107,
      "outputs": []
    },
    {
      "cell_type": "code",
      "source": [],
      "metadata": {
        "id": "JSYsCMwWFJ4E"
      },
      "execution_count": null,
      "outputs": []
    },
    {
      "cell_type": "code",
      "source": [
        "faizal = NewUser(\"faizal_isi\")"
      ],
      "metadata": {
        "id": "EiCIwbQlDzuH"
      },
      "execution_count": 108,
      "outputs": []
    },
    {
      "cell_type": "code",
      "source": [
        "faizal.username"
      ],
      "metadata": {
        "colab": {
          "base_uri": "https://localhost:8080/",
          "height": 35
        },
        "id": "QETJc696D8WV",
        "outputId": "45da4d44-9f66-4ce7-b294-1bfb0ddf99fe"
      },
      "execution_count": 109,
      "outputs": [
        {
          "output_type": "execute_result",
          "data": {
            "text/plain": [
              "'faizal_isi'"
            ],
            "application/vnd.google.colaboratory.intrinsic+json": {
              "type": "string"
            }
          },
          "metadata": {},
          "execution_count": 109
        }
      ]
    },
    {
      "cell_type": "code",
      "source": [
        "faizal.pick_plan(\"Standar Plan\", \"cahya-abcd\")"
      ],
      "metadata": {
        "colab": {
          "base_uri": "https://localhost:8080/"
        },
        "id": "nNvGg7WxELbF",
        "outputId": "d76e5786-1091-41d8-d57b-095bf1c88ff1"
      },
      "execution_count": 112,
      "outputs": [
        {
          "output_type": "execute_result",
          "data": {
            "text/plain": [
              "153600.0"
            ]
          },
          "metadata": {},
          "execution_count": 112
        }
      ]
    }
  ]
}